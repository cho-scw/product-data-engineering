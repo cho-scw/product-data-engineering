{
 "cells": [
  {
   "cell_type": "code",
   "execution_count": 1,
   "metadata": {},
   "outputs": [],
   "source": [
    "import os\n",
    "import pandas as pd\n",
    "import pandasql as psql\n",
    "import numpy as np"
   ]
  },
  {
   "cell_type": "markdown",
   "metadata": {},
   "source": [
    "# Create Path & Collect Files"
   ]
  },
  {
   "cell_type": "markdown",
   "metadata": {},
   "source": [
    "## Requirements for Import/Exporting Raw Data\n",
    "\n",
    "1. Please ensure there is a \"Data Import\" and \"Data Exports\" folder in the same location where this Jupyter Notebook is running from.\n",
    "\n",
    "> E.g. If this Jupyter Notebook sits in `\\folder..\\Productboard\\` then you need a `\\folder..\\Productboard\\Data Import`\n",
    "> You will also need a `\\folder..\\Productboard\\Data Exports`\n",
    "\n",
    "2. Rename Productboard raw data to `Productboard Notes Data Export.csv`\n",
    "3. Rename ChurnZero raw data to `ChurnZero - List of Accounts.csv`"
   ]
  },
  {
   "cell_type": "code",
   "execution_count": 2,
   "metadata": {},
   "outputs": [],
   "source": [
    "strImportFolder='Productboard Customer Feedback Report'\n",
    "FileNameChurnZero = 'ChurnZero - List of Accounts.csv'\n",
    "FileNameProductboard = 'Productboard Notes Data Export.csv'\n",
    "\n",
    "ImportFolderLocation = os.path.join(os.getcwd(),'Data Import','Productboard Customer Feedback')\n",
    "ExportFolderLocation = os.path.join(os.getcwd(),'Data Exports','Productboard Customer Feedback')\n",
    "\n",
    "FilePathChurnZero = os.path.join(ImportFolderLocation,FileNameChurnZero)\n",
    "FilePathProductboard = os.path.join(ImportFolderLocation,FileNameProductboard)"
   ]
  },
  {
   "cell_type": "markdown",
   "metadata": {},
   "source": [
    "# Import Files into Pandas DataFrame"
   ]
  },
  {
   "cell_type": "code",
   "execution_count": 3,
   "metadata": {},
   "outputs": [],
   "source": [
    "dfProductboardRaw = pd.read_csv(FilePathProductboard)\n",
    "dfChurnZeroRaw = pd.read_csv(FilePathChurnZero)"
   ]
  },
  {
   "cell_type": "markdown",
   "metadata": {},
   "source": [
    "# Raw Data Schema:\n",
    "\n",
    "|Data Source|Field|Additional Notes|\n",
    "|-|-|-|\n",
    "|Productboard|id||\n",
    "|Productboard|created_at||\n",
    "|Productboard|note_title||\n",
    "|Productboard|note_text||\n",
    "|Productboard|state||\n",
    "|Productboard|creator_name||\n",
    "|Productboard|creator_email||\n",
    "|Productboard|owner_name||\n",
    "|Productboard|owner_email||\n",
    "|Productboard|user_name||\n",
    "|Productboard|user_email||\n",
    "|Productboard|company_name|To ```JOIN``` against ChurnZero data to get Salesforce Company attributes|\n",
    "|Productboard|company_domain||\n",
    "|Productboard|source_id|Will be dropped in the Transformed output|\n",
    "|Productboard|source_url|Will be dropped in the Transformed output|\n",
    "|Productboard|tags|\n",
    "|ChurnZero|Name|To ```JOIN``` against Productboard data to provide Salesforce Company attributes|\n",
    "|ChurnZero|Tags|Will be dropped in the Transformed output|\n",
    "|ChurnZero|Owner||\n",
    "|ChurnZero|Next Renewal Date||\n",
    "|ChurnZero|Total Contract Amount||\n",
    "|ChurnZero|External Id|Will be dropped in the Transformed output|\n",
    "|ChurnZero|SSO|Will be dropped in the Transformed output|\n",
    "|ChurnZero|Is Active||\n",
    "|ChurnZero|Tier||\n",
    "|ChurnZero|Industry||\n",
    "|ChurnZero|Industry Detail||\n",
    "\n",
    "# JOIN Key(s):\n",
    "\n",
    "Productboard.company_name -> ChurnZero.Name"
   ]
  },
  {
   "cell_type": "markdown",
   "metadata": {},
   "source": [
    "# Create Tall Table for Tags from Productboard Raw Data"
   ]
  },
  {
   "cell_type": "code",
   "execution_count": 4,
   "metadata": {},
   "outputs": [],
   "source": [
    "#dfProductboardTags = dfProductboardRaw['tags'].str.split(',', expand=True)\n",
    "dfProductboardTags = pd.DataFrame(dfProductboardRaw.tags.str.split(', ').tolist(), index=dfProductboardRaw.id)\n",
    "dfProductboardTags = dfProductboardTags.reset_index()[['id',0]]\n",
    "dfProductboardTags = dfProductboardTags.rename(columns={\n",
    "    0: 'tags'\n",
    "})\n",
    "dfProductboardTags = dfProductboardTags.apply(lambda x: pd.Series(x['tags']), axis=1).stack().reset_index(level=1, drop=True)\n",
    "dfProductboardTags.name = 'tags'\n",
    "dfProductboardTags = pd.DataFrame(dfProductboardTags)"
   ]
  },
  {
   "cell_type": "markdown",
   "metadata": {},
   "source": [
    "# Create dfProductboardTransformed DataFrame"
   ]
  },
  {
   "cell_type": "code",
   "execution_count": 5,
   "metadata": {},
   "outputs": [],
   "source": [
    "dfProductboardTransformed = dfProductboardRaw.drop(['tags','source_id','source_url'], axis=1).merge(dfProductboardTags, how='left', left_index=True, right_index=True)\n",
    "\n",
    "#drop note_text column as it can take up too much space\n",
    "dfProductboardTransformed = dfProductboardTransformed.drop('note_text',axis=1)"
   ]
  },
  {
   "cell_type": "markdown",
   "metadata": {},
   "source": [
    "# Calculate Day Difference of when Insights were submitted vs Today"
   ]
  },
  {
   "cell_type": "code",
   "execution_count": 6,
   "metadata": {},
   "outputs": [],
   "source": [
    "dfProductboardTransformed['DayDifference'] = pd.to_datetime('now') - dfProductboardTransformed['created_at'].astype('datetime64[ms]')\n",
    "dfProductboardTransformed['DayDifference'] = dfProductboardTransformed['DayDifference']/np.timedelta64(1,'D')\n",
    "dfProductboardTransformed['DayDifference'] = dfProductboardTransformed['DayDifference'].astype(int)"
   ]
  },
  {
   "cell_type": "markdown",
   "metadata": {},
   "source": [
    "# Create TimeBucket Field"
   ]
  },
  {
   "cell_type": "code",
   "execution_count": 7,
   "metadata": {},
   "outputs": [],
   "source": [
    "dfProductboardTransformed['TimeBucket'] = np.select(\n",
    "    [\n",
    "        dfProductboardTransformed['DayDifference'].between(-5,1, inclusive=False),\n",
    "        dfProductboardTransformed['DayDifference'].between(1,5, inclusive=True),\n",
    "        dfProductboardTransformed['DayDifference'].between(5,10, inclusive=True),\n",
    "        dfProductboardTransformed['DayDifference'].between(10,30, inclusive=True),\n",
    "        dfProductboardTransformed['DayDifference'].between(30,60, inclusive=True),\n",
    "        dfProductboardTransformed['DayDifference'].between(60,90, inclusive=True)\n",
    "        \n",
    "    ],\n",
    "    [\n",
    "        '1. < 1 Day(s)',\n",
    "        '2. 1 - 5 Day(s)',\n",
    "        '3. 6 - 10 Day(s)',\n",
    "        '4. 11 - 30 Day(s)',\n",
    "        '5. 31 - 60 Day(s)',\n",
    "        '6. 61 - 90 Day(s)'\n",
    "    ],\n",
    "    default = '7. >90 Day(s)'\n",
    ")"
   ]
  },
  {
   "cell_type": "markdown",
   "metadata": {},
   "source": [
    "# Create Product Groups TRUE/FALSE Filter"
   ]
  },
  {
   "cell_type": "code",
   "execution_count": 8,
   "metadata": {},
   "outputs": [],
   "source": [
    "dfProductboardTransformed['ProductGroup'] = np.select(\n",
    "    [\n",
    "        dfProductboardTransformed.tags.str.lower() == 'buildsecurely',\n",
    "        dfProductboardTransformed.tags.str.lower() == 'contentcoverage',\n",
    "        dfProductboardTransformed.tags.str.lower() == 'grow&innovate',\n",
    "        dfProductboardTransformed.tags.str.lower() == 'play&learn',\n",
    "        dfProductboardTransformed.tags.str.lower() == 'visualise&measure',\n",
    "        dfProductboardTransformed.tags.str.lower() == 'enable&extend'\n",
    "    ],\n",
    "    [\n",
    "        True,\n",
    "        True,\n",
    "        True,\n",
    "        True,\n",
    "        True,\n",
    "        True\n",
    "    ],\n",
    "    default = False\n",
    ")"
   ]
  },
  {
   "cell_type": "markdown",
   "metadata": {},
   "source": [
    "# Milestone 2 Placeholder\n",
    "\n",
    "To create a hierarchy for reporting.\n",
    "\n",
    "- E.g. Drilling down from Play&Learn to Courses or Assessments in the end result.."
   ]
  },
  {
   "cell_type": "markdown",
   "metadata": {},
   "source": [
    "# JOIN ChurnZero with Productboard data"
   ]
  },
  {
   "cell_type": "code",
   "execution_count": 9,
   "metadata": {},
   "outputs": [],
   "source": [
    "dfChurnZeroTransformed = dfChurnZeroRaw\n",
    "dfChurnZeroTransformed = dfChurnZeroTransformed.drop(['Tags','External Id','SSO'], axis=1)"
   ]
  },
  {
   "cell_type": "code",
   "execution_count": 10,
   "metadata": {},
   "outputs": [],
   "source": [
    "dfDataExport = dfProductboardTransformed.merge(dfChurnZeroTransformed, how='left', left_on = 'company_name', right_on = 'Name')\n",
    "\n",
    "dfDataExport.rename(columns = {'Region':'RegionChurnZero'}, inplace = True)\n",
    "\n",
    "dfDataExport.loc[dfDataExport['Name'].isnull(),'IsSCWCustomer'] = False\n",
    "dfDataExport.loc[dfDataExport['Name'].notnull(),'IsSCWCustomer'] = True"
   ]
  },
  {
   "cell_type": "markdown",
   "metadata": {},
   "source": [
    "# Create Mapping Table by Requestor x ChurnZero Data"
   ]
  },
  {
   "cell_type": "markdown",
   "metadata": {},
   "source": [
    "A.k.a. Popularity contest to resolve feedback from customers that has not signed on with SCW (e.g. trial accounts or currently under sales)\n",
    "\n",
    "For more information, please refer to the [Technical Documentation](https://securecodewarrior.atlassian.net/l/c/7Tw0T1nf) in Confluence."
   ]
  },
  {
   "cell_type": "code",
   "execution_count": 11,
   "metadata": {
    "scrolled": true
   },
   "outputs": [],
   "source": [
    "df = dfDataExport.loc[dfDataExport.owner_email.notnull()]\n",
    "df = df.loc[df.RegionChurnZero.notnull()]\n",
    "df.rename(columns = {'RegionChurnZero':'RegionHack'}, inplace = True)\n",
    "df = pd.DataFrame(df[['creator_email','RegionHack','id']].groupby(['creator_email','RegionHack']).id.nunique())\n",
    "df.rename(columns = {'id':'RecordCount'}, inplace = True)\n",
    "sSQL = 'select creator_email, RegionHack, RecordCount, ROW_NUMBER() OVER (PARTITION BY creator_email ORDER BY RecordCount DESC) RankId FROM df GROUP BY creator_email, RegionHack'\n",
    "df = psql.sqldf(sSQL)\n",
    "dfRegionMappingTable = df.loc[df.RankId == 1].drop(['RecordCount','RankId'], axis=1)"
   ]
  },
  {
   "cell_type": "markdown",
   "metadata": {},
   "source": [
    "# Apply & Collate \"Hack\" Region Attributes to Main Dataset"
   ]
  },
  {
   "cell_type": "markdown",
   "metadata": {},
   "source": [
    "If `Region` in ChurnZero is null, then apply the \"popularity contest\" compiled in `dfRegionMappingTable`.\n",
    "\n",
    "The objective is to have a single field that can be used to easily filter Regions by.\n",
    "\n",
    "PS. All staging fields are retained so troubleshooting can be perfomed in the dataset rather than to dig into this code."
   ]
  },
  {
   "cell_type": "code",
   "execution_count": 12,
   "metadata": {},
   "outputs": [],
   "source": [
    "df = dfDataExport.merge(dfRegionMappingTable, how='left', left_on='creator_email', right_on='creator_email')\n",
    "df['Region'] = np.select(\n",
    "    [\n",
    "        df['RegionChurnZero'].isnull()\n",
    "    ],\n",
    "    [\n",
    "        df['RegionHack']\n",
    "    ],\n",
    "    default = df['RegionChurnZero']\n",
    ")\n",
    "dfDataExport = df"
   ]
  },
  {
   "cell_type": "markdown",
   "metadata": {},
   "source": [
    "# Add Timestamp"
   ]
  },
  {
   "cell_type": "markdown",
   "metadata": {},
   "source": [
    "Add timestamp to show when the report was generated in this process - to be displayed in GDS report."
   ]
  },
  {
   "cell_type": "code",
   "execution_count": 15,
   "metadata": {},
   "outputs": [],
   "source": [
    "dfDataExport['TimeStamp'] = pd.to_datetime('now')"
   ]
  },
  {
   "cell_type": "markdown",
   "metadata": {},
   "source": [
    "# Export CSV File.."
   ]
  },
  {
   "cell_type": "code",
   "execution_count": 17,
   "metadata": {},
   "outputs": [],
   "source": [
    "dfDataExport.to_csv(os.path.join(ExportFolderLocation,'Productboard Customer Feedback Data Export Test.csv') , index=False)"
   ]
  },
  {
   "cell_type": "markdown",
   "metadata": {},
   "source": [
    "# Data QC Checks"
   ]
  },
  {
   "cell_type": "markdown",
   "metadata": {},
   "source": [
    "## What are the Companies that has no ChurnZero Company Attributes?\n",
    "\n",
    "> Basically, this is not an SCW customer that is registered in Salesforce."
   ]
  },
  {
   "cell_type": "code",
   "execution_count": 18,
   "metadata": {},
   "outputs": [],
   "source": [
    "#dfDataExport.loc[dfDataExport.IsSCWCustomer == False]\n",
    "sSQL = \"SELECT DISTINCT company_name FROM dfDataExport where IsSCWCustomer = False ORDER BY 1\"\n",
    "df = psql.sqldf(sSQL)\n",
    "#df.to_csv(os.path.join(ExportFolderLocation,'Missing Companies.csv'),index=False)"
   ]
  },
  {
   "cell_type": "code",
   "execution_count": 85,
   "metadata": {},
   "outputs": [
    {
     "data": {
      "text/html": [
       "<div>\n",
       "<style scoped>\n",
       "    .dataframe tbody tr th:only-of-type {\n",
       "        vertical-align: middle;\n",
       "    }\n",
       "\n",
       "    .dataframe tbody tr th {\n",
       "        vertical-align: top;\n",
       "    }\n",
       "\n",
       "    .dataframe thead th {\n",
       "        text-align: right;\n",
       "    }\n",
       "</style>\n",
       "<table border=\"1\" class=\"dataframe\">\n",
       "  <thead>\n",
       "    <tr style=\"text-align: right;\">\n",
       "      <th></th>\n",
       "      <th>Name</th>\n",
       "      <th>Tags</th>\n",
       "      <th>Owner</th>\n",
       "      <th>Next Renewal Date</th>\n",
       "      <th>Total Contract Amount</th>\n",
       "      <th>External Id</th>\n",
       "      <th>SSO</th>\n",
       "      <th>Is Active</th>\n",
       "      <th>Tier</th>\n",
       "      <th>Industry</th>\n",
       "      <th>Industry Detail</th>\n",
       "      <th>Region</th>\n",
       "    </tr>\n",
       "  </thead>\n",
       "  <tbody>\n",
       "  </tbody>\n",
       "</table>\n",
       "</div>"
      ],
      "text/plain": [
       "Empty DataFrame\n",
       "Columns: [Name, Tags, Owner, Next Renewal Date, Total Contract Amount, External Id, SSO, Is Active, Tier, Industry, Industry Detail, Region]\n",
       "Index: []"
      ]
     },
     "execution_count": 85,
     "metadata": {},
     "output_type": "execute_result"
    }
   ],
   "source": [
    "#dfDataExport.loc[dfDataExport.IsSCWCustomer == False]\n",
    "sSQL = \"SELECT * FROM dfChurnZeroRaw where name like '%webjet%' ORDER BY 1\"\n",
    "df = psql.sqldf(sSQL)\n",
    "df\n",
    "#df.to_csv(os.path.join(ExportFolderLocation,'Missing Companies.csv'),index=False)"
   ]
  },
  {
   "cell_type": "markdown",
   "metadata": {},
   "source": [
    "# Old Codes"
   ]
  },
  {
   "cell_type": "markdown",
   "metadata": {},
   "source": [
    "## TimeBucket Build.."
   ]
  },
  {
   "cell_type": "code",
   "execution_count": 33,
   "metadata": {},
   "outputs": [],
   "source": [
    "dfProductboardTransformed['TimeBucket'] = np.where(\n",
    "    dfProductboardTransformed['DayDifference'].between(0,1, inclusive=True), '1. < 1 Day(s)',\n",
    "    np.where(\n",
    "        dfProductboardTransformed['DayDifference'].between(1,5, inclusive=True), '2. 1 - 5 Day(s)',\n",
    "        np.where(\n",
    "            dfProductboardTransformed['DayDifference'].between(5,10, inclusive=True), '3. 6 - 10 Day(s)',\n",
    "            np.where(\n",
    "                dfProductboardTransformed['DayDifference'].between(10,30, inclusive=True), '4. 11 - 30 Day(s)',\n",
    "                np.where(\n",
    "                    dfProductboardTransformed['DayDifference'].between(30,60, inclusive=True), '5. 31 - 60 Day(s)',\n",
    "                        np.where(\n",
    "                            dfProductboardTransformed['DayDifference'].between(60,90, inclusive=True), '6. 61 - 90 Day(s)', '>90 Day(s)'\n",
    "                    )\n",
    "                )\n",
    "            )\n",
    "        )\n",
    "    )\n",
    ")"
   ]
  },
  {
   "cell_type": "markdown",
   "metadata": {},
   "source": [
    "## Count total records"
   ]
  },
  {
   "cell_type": "code",
   "execution_count": 59,
   "metadata": {
    "collapsed": true
   },
   "outputs": [
    {
     "data": {
      "text/html": [
       "<div>\n",
       "<style scoped>\n",
       "    .dataframe tbody tr th:only-of-type {\n",
       "        vertical-align: middle;\n",
       "    }\n",
       "\n",
       "    .dataframe tbody tr th {\n",
       "        vertical-align: top;\n",
       "    }\n",
       "\n",
       "    .dataframe thead tr th {\n",
       "        text-align: left;\n",
       "    }\n",
       "\n",
       "    .dataframe thead tr:last-of-type th {\n",
       "        text-align: right;\n",
       "    }\n",
       "</style>\n",
       "<table border=\"1\" class=\"dataframe\">\n",
       "  <thead>\n",
       "    <tr>\n",
       "      <th></th>\n",
       "      <th></th>\n",
       "      <th>id</th>\n",
       "    </tr>\n",
       "    <tr>\n",
       "      <th></th>\n",
       "      <th></th>\n",
       "      <th>count</th>\n",
       "    </tr>\n",
       "    <tr>\n",
       "      <th>owner_email</th>\n",
       "      <th>Region</th>\n",
       "      <th></th>\n",
       "    </tr>\n",
       "  </thead>\n",
       "  <tbody>\n",
       "    <tr>\n",
       "      <th>acastro@securecodewarrior.com</th>\n",
       "      <th>APAC</th>\n",
       "      <td>8</td>\n",
       "    </tr>\n",
       "    <tr>\n",
       "      <th>amarzouk@securecodewarrior.com</th>\n",
       "      <th>APAC</th>\n",
       "      <td>11</td>\n",
       "    </tr>\n",
       "    <tr>\n",
       "      <th rowspan=\"3\" valign=\"top\">avanoverloop@securecodewarrior.com</th>\n",
       "      <th>AMER</th>\n",
       "      <td>16</td>\n",
       "    </tr>\n",
       "    <tr>\n",
       "      <th>APAC</th>\n",
       "      <td>49</td>\n",
       "    </tr>\n",
       "    <tr>\n",
       "      <th>EMEA</th>\n",
       "      <td>13</td>\n",
       "    </tr>\n",
       "    <tr>\n",
       "      <th>...</th>\n",
       "      <th>...</th>\n",
       "      <td>...</td>\n",
       "    </tr>\n",
       "    <tr>\n",
       "      <th>tpieters@securecodewarrior.com</th>\n",
       "      <th>APAC</th>\n",
       "      <td>8</td>\n",
       "    </tr>\n",
       "    <tr>\n",
       "      <th>trowell@securecodewarrior.com</th>\n",
       "      <th>AMER</th>\n",
       "      <td>2</td>\n",
       "    </tr>\n",
       "    <tr>\n",
       "      <th rowspan=\"3\" valign=\"top\">wprovoost@securecodewarrior.com</th>\n",
       "      <th>AMER</th>\n",
       "      <td>10</td>\n",
       "    </tr>\n",
       "    <tr>\n",
       "      <th>APAC</th>\n",
       "      <td>30</td>\n",
       "    </tr>\n",
       "    <tr>\n",
       "      <th>EMEA</th>\n",
       "      <td>15</td>\n",
       "    </tr>\n",
       "  </tbody>\n",
       "</table>\n",
       "<p>76 rows × 1 columns</p>\n",
       "</div>"
      ],
      "text/plain": [
       "                                             id\n",
       "                                          count\n",
       "owner_email                        Region      \n",
       "acastro@securecodewarrior.com      APAC       8\n",
       "amarzouk@securecodewarrior.com     APAC      11\n",
       "avanoverloop@securecodewarrior.com AMER      16\n",
       "                                   APAC      49\n",
       "                                   EMEA      13\n",
       "...                                         ...\n",
       "tpieters@securecodewarrior.com     APAC       8\n",
       "trowell@securecodewarrior.com      AMER       2\n",
       "wprovoost@securecodewarrior.com    AMER      10\n",
       "                                   APAC      30\n",
       "                                   EMEA      15\n",
       "\n",
       "[76 rows x 1 columns]"
      ]
     },
     "execution_count": 59,
     "metadata": {},
     "output_type": "execute_result"
    }
   ],
   "source": [
    "df = dfDataExport.loc[dfDataExport.owner_email.notnull()]\n",
    "df = df.loc[df.Region.notnull()]\n",
    "\n",
    "df[['owner_email','Region','id']].groupby(['owner_email','Region']).agg(['count'])\n",
    "\n",
    "#df.loc[df.IsSCWCustomer==True]"
   ]
  }
 ],
 "metadata": {
  "kernelspec": {
   "display_name": "Python 3",
   "language": "python",
   "name": "python3"
  },
  "language_info": {
   "codemirror_mode": {
    "name": "ipython",
    "version": 3
   },
   "file_extension": ".py",
   "mimetype": "text/x-python",
   "name": "python",
   "nbconvert_exporter": "python",
   "pygments_lexer": "ipython3",
   "version": "3.8.2"
  }
 },
 "nbformat": 4,
 "nbformat_minor": 4
}
